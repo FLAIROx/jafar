{
 "cells": [
  {
   "cell_type": "code",
   "execution_count": 1,
   "metadata": {},
   "outputs": [],
   "source": [
    "import os\n",
    "os.environ['CUDA_VISIBLE_DEVICES'] = '6'\n",
    "import numpy as np\n",
    "import jax.numpy as jnp\n",
    "import jax\n",
    "from orbax.checkpoint import PyTreeCheckpointer\n",
    "from dataclasses import dataclass\n",
    "import tyro\n",
    "\n",
    "from genie import Genie\n",
    "from data.dataloader import get_dataloader"
   ]
  },
  {
   "cell_type": "code",
   "execution_count": 2,
   "metadata": {},
   "outputs": [],
   "source": [
    "# @dataclass\n",
    "# class Args:\n",
    "    # Experiment\n",
    "num_steps: int = 200_000\n",
    "seed: int = 0\n",
    "seq_len: int = 16\n",
    "image_channels: int = 3\n",
    "image_resolution: int = 64\n",
    "file_path: str = \"data/coinrun.npy\"\n",
    "# Optimization\n",
    "batch_size: int = 36\n",
    "min_lr: float = 3e-6\n",
    "max_lr: float = 3e-5\n",
    "warmup_steps: int = 5000\n",
    "# Tokenizer\n",
    "tokenizer_dim: int = 512\n",
    "latent_patch_dim: int = 32\n",
    "num_patch_latents: int = 1024\n",
    "patch_size: int = 4\n",
    "tokenizer_num_blocks: int = 8\n",
    "tokenizer_num_heads: int = 8\n",
    "tokenizer_checkpoint: str = \"\"\n",
    "# LAM\n",
    "lam_dim: int = 512\n",
    "latent_action_dim: int = 32\n",
    "num_latent_actions: int = 6\n",
    "lam_patch_size: int = 16\n",
    "lam_num_blocks: int = 8\n",
    "lam_num_heads: int = 8\n",
    "lam_checkpoint: str = \"\"\n",
    "# Dynamics\n",
    "dyna_dim: int = 512\n",
    "dyna_num_blocks: int = 12\n",
    "dyna_num_heads: int = 8\n",
    "dropout: float = 0.0\n",
    "mask_limit: float = 0.5\n",
    "# Logging\n",
    "log: bool = False\n",
    "entity: str = \"\"\n",
    "project: str = \"\"\n",
    "log_interval: int = 5\n",
    "log_image_interval: int = 250\n",
    "ckpt_dir: str = \"\"\n",
    "log_checkpoint_interval: int = 25000\n",
    "log_gradients: bool = False"
   ]
  },
  {
   "cell_type": "code",
   "execution_count": 3,
   "metadata": {},
   "outputs": [],
   "source": [
    "# args = tyro.cli(Args)\n",
    "rng = jax.random.PRNGKey(seed)"
   ]
  },
  {
   "cell_type": "code",
   "execution_count": 4,
   "metadata": {},
   "outputs": [],
   "source": [
    "genie = Genie(\n",
    "    # Tokenizer\n",
    "    in_dim=image_channels,\n",
    "    tokenizer_dim=tokenizer_dim,\n",
    "    latent_patch_dim=latent_patch_dim,\n",
    "    num_patch_latents=num_patch_latents,\n",
    "    patch_size=patch_size,\n",
    "    tokenizer_num_blocks=tokenizer_num_blocks,\n",
    "    tokenizer_num_heads=tokenizer_num_heads,\n",
    "    # LAM\n",
    "    lam_dim=lam_dim,\n",
    "    latent_action_dim=latent_action_dim,\n",
    "    num_latent_actions=num_latent_actions,\n",
    "    lam_patch_size=lam_patch_size,\n",
    "    lam_num_blocks=lam_num_blocks,\n",
    "    lam_num_heads=lam_num_heads,\n",
    "    # Dynamics\n",
    "    dyna_dim=dyna_dim,\n",
    "    dyna_num_blocks=dyna_num_blocks,\n",
    "    dyna_num_heads=dyna_num_heads,\n",
    "    dropout=dropout,\n",
    "    mask_limit=mask_limit,\n",
    ")"
   ]
  },
  {
   "cell_type": "code",
   "execution_count": 5,
   "metadata": {},
   "outputs": [],
   "source": [
    "rng, _rng = jax.random.split(rng)\n",
    "image_shape = (image_resolution, image_resolution, image_channels)\n",
    "dummy_inputs = dict(\n",
    "    videos=jnp.zeros((batch_size, seq_len, *image_shape), dtype=jnp.float32),\n",
    "    mask_rng=_rng,\n",
    ")\n",
    "rng, _rng = jax.random.split(rng)\n",
    "init_params = genie.init(_rng, dummy_inputs)"
   ]
  },
  {
   "cell_type": "code",
   "execution_count": null,
   "metadata": {},
   "outputs": [
    {
     "name": "stderr",
     "output_type": "stream",
     "text": [
      "/home/duser/.local/lib/python3.10/site-packages/orbax/checkpoint/type_handlers.py:1442: UserWarning: Couldn't find sharding info under RestoreArgs. Populating sharding info from sharding file. Please note restoration time will be slightly increased due to reading from file instead of directly from RestoreArgs. Note also that this option is unsafe when restoring on a different topology than the checkpoint was saved with.\n",
      "  warnings.warn(\n"
     ]
    }
   ],
   "source": [
    "genie_params = '/homes/80/timonw/checkpoints/genie_1721738387_200000'\n",
    "tokenizer_params = '/homes/80/timonw/checkpoints/tokenizer_1721412317_290000'\n",
    "params = PyTreeCheckpointer().restore(genie_params)\n"
   ]
  },
  {
   "cell_type": "code",
   "execution_count": null,
   "metadata": {},
   "outputs": [],
   "source": [
    "# print(params['model']['params']['params']['dynamics']['dynamics']['STBlock_3'][''].keys())\n",
    "init_params['params'].update(params['model']['params']['params'])"
   ]
  },
  {
   "cell_type": "code",
   "execution_count": null,
   "metadata": {},
   "outputs": [],
   "source": []
  },
  {
   "cell_type": "code",
   "execution_count": null,
   "metadata": {},
   "outputs": [],
   "source": [
    "dataloader = get_dataloader(file_path, seq_len, batch_size)"
   ]
  },
  {
   "cell_type": "code",
   "execution_count": null,
   "metadata": {},
   "outputs": [
    {
     "name": "stderr",
     "output_type": "stream",
     "text": [
      "/homes/80/timonw/flairox_jafar/data/dataloader.py:35: UserWarning: The given NumPy array is not writable, and PyTorch does not support non-writable tensors. This means writing to this tensor will result in undefined behavior. You may want to copy the array to protect its data or make it writable before converting it to a tensor. This type of warning will be suppressed for the rest of this program. (Triggered internally at ../torch/csrc/utils/tensor_numpy.cpp:206.)\n",
      "  return torch.from_numpy(sequence).clone()\n"
     ]
    },
    {
     "name": "stdout",
     "output_type": "stream",
     "text": [
      "(36, 15, 64, 64, 3)\n"
     ]
    }
   ],
   "source": [
    "max_steps = 1\n",
    "curr = 0\n",
    "num_samples = 1\n",
    "for videos in dataloader:\n",
    "    rng, _rng = jax.random.split(rng)\n",
    "    actions = jax.random.randint(_rng, shape=(batch_size, 15), minval=0, maxval=6)\n",
    "    videos = jnp.array(videos, dtype=jnp.float32)[:, :15] / 255.0\n",
    "    for i in range(num_samples):\n",
    "        rng, _rng = jax.random.split(rng)\n",
    "        print(videos.shape)\n",
    "        inp = dict(\n",
    "            videos=videos,\n",
    "            rng=_rng,\n",
    "            latent_actions=actions\n",
    "        )\n",
    "        \n",
    "        generated_frames = genie.sample(init_params, inp, _rng)\n",
    "        videos = jnp.concatenate([videos[:, 1:], generated_frames], axis=1)\n",
    "        action = jax.random.randint(_rng, shape=(batch_size, 1), minval=0, maxval=6)\n",
    "        actions = jnp.concatenate([actions[:, 1:], action], axis=1)\n",
    "    curr += 1\n",
    "    if curr == max_steps:\n",
    "        break"
   ]
  },
  {
   "cell_type": "code",
   "execution_count": null,
   "metadata": {},
   "outputs": [
    {
     "data": {
      "text/plain": [
       "(36, 16, 64, 64, 3)"
      ]
     },
     "execution_count": 10,
     "metadata": {},
     "output_type": "execute_result"
    }
   ],
   "source": [
    "generated_frames.shape"
   ]
  },
  {
   "cell_type": "code",
   "execution_count": null,
   "metadata": {},
   "outputs": [],
   "source": [
    "def imshow(img):\n",
    "    import cv2\n",
    "    import IPython\n",
    "    _,ret = cv2.imencode('.jpg', img) \n",
    "    i = IPython.display.Image(data=ret)\n",
    "    IPython.display.display(i)"
   ]
  },
  {
   "cell_type": "code",
   "execution_count": null,
   "metadata": {},
   "outputs": [
    {
     "data": {
      "image/png": "[encoded data removed]",
      "text/plain": [
       "<IPython.core.display.Image object>"
      ]
     },
     "metadata": {},
     "output_type": "display_data"
    },
    {
     "data": {
      "image/png": "[encoded data removed]",
      "text/plain": [
       "<IPython.core.display.Image object>"
      ]
     },
     "metadata": {},
     "output_type": "display_data"
    },
    {
     "data": {
      "image/png": "[encoded data removed]",
      "text/plain": [
       "<IPython.core.display.Image object>"
      ]
     },
     "metadata": {},
     "output_type": "display_data"
    },
    {
     "data": {
      "image/png": "[encoded data removed]",
      "text/plain": [
       "<IPython.core.display.Image object>"
      ]
     },
     "metadata": {},
     "output_type": "display_data"
    },
    {
     "data": {
      "image/png": "[encoded data removed]",
      "text/plain": [
       "<IPython.core.display.Image object>"
      ]
     },
     "metadata": {},
     "output_type": "display_data"
    },
    {
     "data": {
      "image/png": "[encoded data removed]",
      "text/plain": [
       "<IPython.core.display.Image object>"
      ]
     },
     "metadata": {},
     "output_type": "display_data"
    },
    {
     "data": {
      "image/png": "[encoded data removed]",
      "text/plain": [
       "<IPython.core.display.Image object>"
      ]
     },
     "metadata": {},
     "output_type": "display_data"
    },
    {
     "data": {
      "image/png": "[encoded data removed]",
      "text/plain": [
       "<IPython.core.display.Image object>"
      ]
     },
     "metadata": {},
     "output_type": "display_data"
    },
    {
     "data": {
      "image/png": "[encoded data removed]",
      "text/plain": [
       "<IPython.core.display.Image object>"
      ]
     },
     "metadata": {},
     "output_type": "display_data"
    },
    {
     "data": {
      "image/png": "[encoded data removed]",
      "text/plain": [
       "<IPython.core.display.Image object>"
      ]
     },
     "metadata": {},
     "output_type": "display_data"
    },
    {
     "data": {
      "image/png": "[encoded data removed]",
      "text/plain": [
       "<IPython.core.display.Image object>"
      ]
     },
     "metadata": {},
     "output_type": "display_data"
    },
    {
     "data": {
      "image/png": "[encoded data removed]",
      "text/plain": [
       "<IPython.core.display.Image object>"
      ]
     },
     "metadata": {},
     "output_type": "display_data"
    },
    {
     "data": {
      "image/png": "[encoded data removed]",
      "text/plain": [
       "<IPython.core.display.Image object>"
      ]
     },
     "metadata": {},
     "output_type": "display_data"
    },
    {
     "data": {
      "image/png": "[encoded data removed]",
      "text/plain": [
       "<IPython.core.display.Image object>"
      ]
     },
     "metadata": {},
     "output_type": "display_data"
    },
    {
     "data": {
      "image/png": "[encoded data removed]",
      "text/plain": [
       "<IPython.core.display.Image object>"
      ]
     },
     "metadata": {},
     "output_type": "display_data"
    },
    {
     "data": {
      "image/png": "[encoded data removed]",
      "text/plain": [
       "<IPython.core.display.Image object>"
      ]
     },
     "metadata": {},
     "output_type": "display_data"
    },
    {
     "data": {
      "image/png": "[encoded data removed]",
      "text/plain": [
       "<IPython.core.display.Image object>"
      ]
     },
     "metadata": {},
     "output_type": "display_data"
    },
    {
     "data": {
      "image/png": "[encoded data removed]",
      "text/plain": [
       "<IPython.core.display.Image object>"
      ]
     },
     "metadata": {},
     "output_type": "display_data"
    },
    {
     "data": {
      "image/png": "[encoded data removed]",
      "text/plain": [
       "<IPython.core.display.Image object>"
      ]
     },
     "metadata": {},
     "output_type": "display_data"
    },
    {
     "data": {
      "image/png": "[encoded data removed]",
      "text/plain": [
       "<IPython.core.display.Image object>"
      ]
     },
     "metadata": {},
     "output_type": "display_data"
    },
    {
     "data": {
      "image/png": "[encoded data removed]",
      "text/plain": [
       "<IPython.core.display.Image object>"
      ]
     },
     "metadata": {},
     "output_type": "display_data"
    },
    {
     "data": {
      "image/png": "[encoded data removed]",
      "text/plain": [
       "<IPython.core.display.Image object>"
      ]
     },
     "metadata": {},
     "output_type": "display_data"
    },
    {
     "data": {
      "image/png": "[encoded data removed]",
      "text/plain": [
       "<IPython.core.display.Image object>"
      ]
     },
     "metadata": {},
     "output_type": "display_data"
    },
    {
     "data": {
      "image/png": "[encoded data removed]",
      "text/plain": [
       "<IPython.core.display.Image object>"
      ]
     },
     "metadata": {},
     "output_type": "display_data"
    },
    {
     "data": {
      "image/png": "[encoded data removed]",
      "text/plain": [
       "<IPython.core.display.Image object>"
      ]
     },
     "metadata": {},
     "output_type": "display_data"
    },
    {
     "data": {
      "image/png": "[encoded data removed]",
      "text/plain": [
       "<IPython.core.display.Image object>"
      ]
     },
     "metadata": {},
     "output_type": "display_data"
    },
    {
     "data": {
      "image/png": "[encoded data removed]",
      "text/plain": [
       "<IPython.core.display.Image object>"
      ]
     },
     "metadata": {},
     "output_type": "display_data"
    },
    {
     "data": {
      "image/png": "[encoded data removed]",
      "text/plain": [
       "<IPython.core.display.Image object>"
      ]
     },
     "metadata": {},
     "output_type": "display_data"
    },
    {
     "data": {
      "image/png": "[encoded data removed]",
      "text/plain": [
       "<IPython.core.display.Image object>"
      ]
     },
     "metadata": {},
     "output_type": "display_data"
    },
    {
     "data": {
      "image/png": "[encoded data removed]",
      "text/plain": [
       "<IPython.core.display.Image object>"
      ]
     },
     "metadata": {},
     "output_type": "display_data"
    },
    {
     "data": {
      "image/png": "[encoded data removed]",
      "text/plain": [
       "<IPython.core.display.Image object>"
      ]
     },
     "metadata": {},
     "output_type": "display_data"
    },
    {
     "data": {
      "image/png": "[encoded data removed]",
      "text/plain": [
       "<IPython.core.display.Image object>"
      ]
     },
     "metadata": {},
     "output_type": "display_data"
    }
   ],
   "source": [
    "# imshow(np.asarray(sampled_images[0, 0]*255.0))\n",
    "for i in range(generated_frames.shape[1]):\n",
    "    imshow(np.asarray(generated_frames[0, i]*255.0))\n",
    "    imshow(np.asarray(videos[0, i]*255.0))\n",
    "# imshow(np.asarray(videos[2, ]*255.0))"
   ]
  },
  {
   "cell_type": "code",
   "execution_count": null,
   "metadata": {},
   "outputs": [
    {
     "name": "stdout",
     "output_type": "stream",
     "text": [
      "[[[[0.733251   0.7981451  0.8018075 ]\n",
      "   [0.73127604 0.7965537  0.8003893 ]\n",
      "   [0.6939343  0.75190157 0.7523649 ]\n",
      "   ...\n",
      "   [0.00168101 0.15667439 0.17141302]\n",
      "   [0.00151207 0.15468474 0.17115042]\n",
      "   [0.00165783 0.15452313 0.17112982]]\n",
      "\n",
      "  [[0.7326673  0.79560626 0.79957634]\n",
      "   [0.733003   0.7959938  0.79989177]\n",
      "   [0.76858616 0.8176346  0.82082886]\n",
      "   ...\n",
      "   [0.0015366  0.15634273 0.17386569]\n",
      "   [0.00144092 0.15462722 0.17263101]\n",
      "   [0.00136558 0.1555184  0.17129004]]\n",
      "\n",
      "  [[0.6940729  0.75293773 0.7557304 ]\n",
      "   [0.6949446  0.75664103 0.7573769 ]\n",
      "   [0.6930435  0.75341964 0.75663966]\n",
      "   ...\n",
      "   [0.00147447 0.15765785 0.17292674]\n",
      "   [0.00109022 0.15468632 0.17132881]\n",
      "   [0.0014722  0.15600327 0.17277189]]\n",
      "\n",
      "  ...\n",
      "\n",
      "  [[0.6897461  0.7496823  0.75324225]\n",
      "   [0.77367723 0.8204924  0.8238434 ]\n",
      "   [0.6885028  0.75165474 0.7554853 ]\n",
      "   ...\n",
      "   [0.6943596  0.75166947 0.75572026]\n",
      "   [0.69250923 0.7517265  0.75668424]\n",
      "   [0.69058496 0.75088686 0.75724083]]\n",
      "\n",
      "  [[0.69197816 0.7506735  0.75493133]\n",
      "   [0.6912948  0.7508876  0.7548821 ]\n",
      "   [0.7327603  0.7927549  0.79790205]\n",
      "   ...\n",
      "   [0.73209685 0.7945978  0.8004482 ]\n",
      "   [0.7319657  0.79687345 0.8008929 ]\n",
      "   [0.73351306 0.7950586  0.8007331 ]]\n",
      "\n",
      "  [[0.76886874 0.8184665  0.82104826]\n",
      "   [0.7719834  0.8204207  0.823443  ]\n",
      "   [0.7738933  0.81916076 0.823984  ]\n",
      "   ...\n",
      "   [0.7726232  0.81892085 0.8231847 ]\n",
      "   [0.77053314 0.8167695  0.8223586 ]\n",
      "   [0.7707855  0.8176572  0.822056  ]]]\n",
      "\n",
      "\n",
      " [[[0.7686307  0.82114476 0.82577646]\n",
      "   [0.76901215 0.8182231  0.82136697]\n",
      "   [0.7318953  0.7950728  0.79816777]\n",
      "   ...\n",
      "   [0.00155737 0.1572578  0.17194027]\n",
      "   [0.00139655 0.15595697 0.17098114]\n",
      "   [0.00154004 0.15428875 0.17104897]]\n",
      "\n",
      "  [[0.73360866 0.79698026 0.80080575]\n",
      "   [0.73276746 0.79544073 0.7993914 ]\n",
      "   [0.7333218  0.79800653 0.799488  ]\n",
      "   ...\n",
      "   [0.00145488 0.15563846 0.17363963]\n",
      "   [0.00133871 0.15378734 0.17187834]\n",
      "   [0.00127217 0.15491757 0.17053218]]\n",
      "\n",
      "  [[0.7678203  0.8165027  0.8208747 ]\n",
      "   [0.76707816 0.8181922  0.82388   ]\n",
      "   [0.7667017  0.8132471  0.81993556]\n",
      "   ...\n",
      "   [0.00140169 0.15660398 0.17300798]\n",
      "   [0.00103023 0.1542215  0.17125358]\n",
      "   [0.0014176  0.15661953 0.17238809]]\n",
      "\n",
      "  ...\n",
      "\n",
      "  [[0.77092475 0.81995505 0.8265619 ]\n",
      "   [0.771892   0.8196588  0.8239678 ]\n",
      "   [0.7748158  0.8189057  0.82115185]\n",
      "   ...\n",
      "   [0.773375   0.81892675 0.8245022 ]\n",
      "   [0.6990201  0.75756305 0.7599363 ]\n",
      "   [0.6941702  0.7513426  0.7582022 ]]\n",
      "\n",
      "  [[0.69392556 0.75331444 0.7576702 ]\n",
      "   [0.69466853 0.75361663 0.75769883]\n",
      "   [0.6913936  0.7533181  0.7555126 ]\n",
      "   ...\n",
      "   [0.691569   0.75185    0.75685567]\n",
      "   [0.6949449  0.7569496  0.7603827 ]\n",
      "   [0.6931261  0.75227624 0.7573112 ]]\n",
      "\n",
      "  [[0.7326341  0.79340965 0.7965649 ]\n",
      "   [0.733838   0.79567534 0.8004962 ]\n",
      "   [0.77495867 0.82164174 0.8258881 ]\n",
      "   ...\n",
      "   [0.76918304 0.8175111  0.8202371 ]\n",
      "   [0.77312255 0.8194258  0.8231076 ]\n",
      "   [0.7718542  0.81622976 0.82175636]]]\n",
      "\n",
      "\n",
      " [[[0.7339053  0.79749537 0.80166286]\n",
      "   [0.73174274 0.7964225  0.8004148 ]\n",
      "   [0.69384766 0.75243384 0.75392467]\n",
      "   ...\n",
      "   [0.00155684 0.15557767 0.17106707]\n",
      "   [0.00138675 0.15442294 0.17062412]\n",
      "   [0.00156284 0.1547374  0.1709037 ]]\n",
      "\n",
      "  [[0.7320406  0.7944123  0.7998109 ]\n",
      "   [0.7326864  0.79588366 0.8002803 ]\n",
      "   [0.7714957  0.8190702  0.8220478 ]\n",
      "   ...\n",
      "   [0.00143863 0.15446667 0.17350656]\n",
      "   [0.00134375 0.15377991 0.17210221]\n",
      "   [0.00128686 0.1551754  0.17153293]]\n",
      "\n",
      "  [[0.69606316 0.7539667  0.75784093]\n",
      "   [0.6962488  0.7561808  0.7586596 ]\n",
      "   [0.69452816 0.75346345 0.7565804 ]\n",
      "   ...\n",
      "   [0.00139373 0.15681213 0.17215484]\n",
      "   [0.0010279  0.15459357 0.17145431]\n",
      "   [0.00141009 0.1561939  0.17242433]]\n",
      "\n",
      "  ...\n",
      "\n",
      "  [[0.6988495  0.75901693 0.7640394 ]\n",
      "   [0.76818573 0.81582713 0.82073593]\n",
      "   [0.69127953 0.7520503  0.7561726 ]\n",
      "   ...\n",
      "   [0.6928753  0.7540438  0.7591261 ]\n",
      "   [0.69369364 0.7517443  0.7559992 ]\n",
      "   [0.6915438  0.7525736  0.7568849 ]]\n",
      "\n",
      "  [[0.69111097 0.7511287  0.75685805]\n",
      "   [0.6918425  0.75134474 0.7571003 ]\n",
      "   [0.7303608  0.7933956  0.79953593]\n",
      "   ...\n",
      "   [0.7308568  0.7954018  0.80080205]\n",
      "   [0.7312168  0.79624903 0.801196  ]\n",
      "   [0.7362577  0.79972184 0.80478084]]\n",
      "\n",
      "  [[0.76820797 0.8170428  0.82116437]\n",
      "   [0.7699367  0.81854355 0.8226773 ]\n",
      "   [0.7722317  0.81879413 0.8231156 ]\n",
      "   ...\n",
      "   [0.77469397 0.82065076 0.8253498 ]\n",
      "   [0.7718283  0.8175251  0.82290024]\n",
      "   [0.7727342  0.81994814 0.82456833]]]\n",
      "\n",
      "\n",
      " ...\n",
      "\n",
      "\n",
      " [[[0.7677643  0.8168212  0.8193351 ]\n",
      "   [0.7694902  0.8202889  0.8231684 ]\n",
      "   [0.7688966  0.81479526 0.81742877]\n",
      "   ...\n",
      "   [0.00157404 0.15612766 0.17147787]\n",
      "   [0.0014228  0.155276   0.17053369]\n",
      "   [0.00155683 0.15417726 0.17211771]]\n",
      "\n",
      "  [[0.6905829  0.74954814 0.75606763]\n",
      "   [0.6908325  0.7525651  0.756853  ]\n",
      "   [0.69585305 0.75560296 0.7600898 ]\n",
      "   ...\n",
      "   [0.00145841 0.15662266 0.17253567]\n",
      "   [0.00134574 0.15577033 0.1712499 ]\n",
      "   [0.00127307 0.15526998 0.17122911]]\n",
      "\n",
      "  [[0.7275654  0.793911   0.8007741 ]\n",
      "   [0.72814935 0.7937086  0.8007541 ]\n",
      "   [0.7678004  0.81910205 0.82359934]\n",
      "   ...\n",
      "   [0.00139117 0.15751372 0.17188945]\n",
      "   [0.00105279 0.15511909 0.17181933]\n",
      "   [0.00142051 0.15667722 0.17026466]]\n",
      "\n",
      "  ...\n",
      "\n",
      "  [[0.73332185 0.7955292  0.79972756]\n",
      "   [0.730374   0.79319745 0.79782873]\n",
      "   [0.7697707  0.8156838  0.8203364 ]\n",
      "   ...\n",
      "   [0.7711006  0.8180416  0.8237424 ]\n",
      "   [0.7699909  0.8146167  0.81865376]\n",
      "   [0.7720411  0.81809884 0.82160485]]\n",
      "\n",
      "  [[0.77244484 0.8197585  0.82349837]\n",
      "   [0.7722561  0.8226042  0.82473   ]\n",
      "   [0.73176384 0.792261   0.79591507]\n",
      "   ...\n",
      "   [0.7332156  0.79405737 0.799448  ]\n",
      "   [0.732058   0.7906174  0.7963774 ]\n",
      "   [0.7340802  0.79426515 0.7991944 ]]\n",
      "\n",
      "  [[0.732967   0.7957433  0.8006743 ]\n",
      "   [0.7313244  0.79105675 0.7966242 ]\n",
      "   [0.73118603 0.79360664 0.797598  ]\n",
      "   ...\n",
      "   [0.7316973  0.79316485 0.7991328 ]\n",
      "   [0.7353884  0.79578865 0.80019414]\n",
      "   [0.7317759  0.7927415  0.7979748 ]]]\n",
      "\n",
      "\n",
      " [[[0.7718981  0.81934446 0.82323366]\n",
      "   [0.77275455 0.81978774 0.82402974]\n",
      "   [0.77018857 0.81898934 0.8217511 ]\n",
      "   ...\n",
      "   [0.00159297 0.1556642  0.17077984]\n",
      "   [0.00142296 0.15507084 0.17015508]\n",
      "   [0.00153626 0.15426071 0.16996172]]\n",
      "\n",
      "  [[0.73107785 0.7942278  0.79770434]\n",
      "   [0.7312392  0.79235077 0.79674244]\n",
      "   [0.6933039  0.7533252  0.7568276 ]\n",
      "   ...\n",
      "   [0.0014729  0.1563571  0.1733357 ]\n",
      "   [0.00135    0.15512964 0.17158441]\n",
      "   [0.00126642 0.15518662 0.1701571 ]]\n",
      "\n",
      "  [[0.7303543  0.79322845 0.7970245 ]\n",
      "   [0.7335237  0.79617274 0.7985807 ]\n",
      "   [0.773018   0.81984574 0.8235662 ]\n",
      "   ...\n",
      "   [0.00143889 0.15879966 0.1733317 ]\n",
      "   [0.00105016 0.15438142 0.17143762]\n",
      "   [0.00138677 0.1557717  0.1707068 ]]\n",
      "\n",
      "  ...\n",
      "\n",
      "  [[0.7342425  0.7960553  0.8004572 ]\n",
      "   [0.73503363 0.7971501  0.7991699 ]\n",
      "   [0.7706427  0.8180929  0.8204391 ]\n",
      "   ...\n",
      "   [0.77156085 0.81857735 0.8239043 ]\n",
      "   [0.77178967 0.8182378  0.8219007 ]\n",
      "   [0.76642114 0.81527007 0.821468  ]]\n",
      "\n",
      "  [[0.71729815 0.7721061  0.7767165 ]\n",
      "   [0.695686   0.7554199  0.7581048 ]\n",
      "   [0.69505095 0.75375766 0.75653   ]\n",
      "   ...\n",
      "   [0.6925888  0.75135297 0.7566825 ]\n",
      "   [0.6959562  0.7534386  0.7565724 ]\n",
      "   [0.697728   0.75180435 0.75739783]]\n",
      "\n",
      "  [[0.6946387  0.754078   0.75730026]\n",
      "   [0.69544816 0.7534691  0.7572686 ]\n",
      "   [0.7349171  0.79773265 0.79948765]\n",
      "   ...\n",
      "   [0.73185116 0.79413354 0.79782164]\n",
      "   [0.7716769  0.8196478  0.82453513]\n",
      "   [0.73538595 0.79583013 0.79863036]]]\n",
      "\n",
      "\n",
      " [[[0.6763866  0.7581995  0.766688  ]\n",
      "   [0.6426594  0.72768337 0.7104802 ]\n",
      "   [0.636452   0.7177414  0.7094938 ]\n",
      "   ...\n",
      "   [0.00255955 0.14736153 0.17131278]\n",
      "   [0.0023743  0.14793588 0.17323253]\n",
      "   [0.00267079 0.150428   0.17176817]]\n",
      "\n",
      "  [[0.6684194  0.74769366 0.75673   ]\n",
      "   [0.62860066 0.72175896 0.7174864 ]\n",
      "   [0.63890785 0.7224364  0.7276071 ]\n",
      "   ...\n",
      "   [0.00239347 0.14667511 0.17012997]\n",
      "   [0.00228639 0.14764602 0.17111345]\n",
      "   [0.00222576 0.15003577 0.1731656 ]]\n",
      "\n",
      "  [[0.66803813 0.7513492  0.75331575]\n",
      "   [0.6471671  0.7265179  0.7351085 ]\n",
      "   [0.65019894 0.7358386  0.7297717 ]\n",
      "   ...\n",
      "   [0.0024257  0.15269926 0.17610703]\n",
      "   [0.00192519 0.15234084 0.17852193]\n",
      "   [0.00243606 0.14983259 0.1756858 ]]\n",
      "\n",
      "  ...\n",
      "\n",
      "  [[0.67631847 0.75252753 0.7589305 ]\n",
      "   [0.6898262  0.7629453  0.7653417 ]\n",
      "   [0.6831441  0.75890005 0.76231664]\n",
      "   ...\n",
      "   [0.6876742  0.7622382  0.76402277]\n",
      "   [0.6778705  0.7558948  0.75899345]\n",
      "   [0.6855323  0.7622323  0.7618601 ]]\n",
      "\n",
      "  [[0.6918675  0.7608529  0.7661692 ]\n",
      "   [0.6895097  0.76013166 0.76072514]\n",
      "   [0.69133043 0.7598299  0.7621137 ]\n",
      "   ...\n",
      "   [0.68505883 0.7575408  0.75856996]\n",
      "   [0.6868198  0.7571092  0.7593848 ]\n",
      "   [0.6866541  0.7605296  0.76278865]]\n",
      "\n",
      "  [[0.6846039  0.75578636 0.7579646 ]\n",
      "   [0.6902744  0.7636568  0.76601815]\n",
      "   [0.68151796 0.75817627 0.76113886]\n",
      "   ...\n",
      "   [0.6855987  0.75854224 0.76135033]\n",
      "   [0.67962986 0.7599263  0.7623904 ]\n",
      "   [0.68641794 0.7617078  0.764362  ]]]]\n"
     ]
    }
   ],
   "source": [
    "print(generated_frames[0,])"
   ]
  },
  {
   "cell_type": "code",
   "execution_count": null,
   "metadata": {},
   "outputs": [],
   "source": []
  }
 ],
 "metadata": {
  "kernelspec": {
   "display_name": "Python 3",
   "language": "python",
   "name": "python3"
  },
  "language_info": {
   "codemirror_mode": {
    "name": "ipython",
    "version": 3
   },
   "file_extension": ".py",
   "mimetype": "text/x-python",
   "name": "python",
   "nbconvert_exporter": "python",
   "pygments_lexer": "ipython3",
   "version": "3.10.12"
  }
 },
 "nbformat": 4,
 "nbformat_minor": 2
}
